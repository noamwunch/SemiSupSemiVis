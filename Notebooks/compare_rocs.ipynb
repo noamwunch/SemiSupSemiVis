{
 "cells": [
  {
   "cell_type": "code",
   "execution_count": 1,
   "metadata": {},
   "outputs": [],
   "source": [
    "import numpy as np\n",
    "%matplotlib inline\n",
    "from matplotlib import pyplot as plt\n",
    "from UTILS.plots_and_logs import plot_rocs"
   ]
  },
  {
   "cell_type": "code",
   "execution_count": 4,
   "metadata": {
    "collapsed": false,
    "jupyter": {
     "outputs_hidden": false
    },
    "pycharm": {
     "name": "#%%\n"
    }
   },
   "outputs": [
    {
     "name": "stderr",
     "output_type": "stream",
     "text": [
      "C:\\Users\\noamw\\Dropbox\\Machine_Learning_LSTM\\9. SemiSupSemiVis\\UTILS\\plots_and_logs.py:158: RuntimeWarning: divide by zero encountered in true_divide\n",
      "  plt.semilogy(sig_eff, 1/bkg_eff, label=f'{classifier_name}: AUC = {AUC:.2f}', **plot_dict)\n"
     ]
    }
   ],
   "source": [
    "exp_dir_path = './RESULTS/example_grid/iter_1/'\n",
    "classifier_preds_save_dir = exp_dir_path + 'classifier_preds/'\n",
    "classifier_names = ['semisup classifier on j1',\n",
    "                    'semisup classifier on j2',\n",
    "                    'semisup event classifier',\n",
    "                    'unsup classifier on j1',\n",
    "                    'unsup classifier on j2',\n",
    "                    'unsup event classifier']\n",
    "\n",
    "\n",
    "classifier_dicts = {classifier_name: {'probS': np.load(classifier_preds_save_dir+classifier_name+'.npy'),\n",
    "                                      'plot_dict': {}}\n",
    "                   for classifier_name in classifier_names}\n",
    "\n",
    "classifier_dicts['semisup event classifier ver2'] = {'probS':\n",
    "                                                     classifier_dicts['semisup classifier on j1']['probS']*\n",
    "                                                     classifier_dicts['semisup classifier on j2']['probS'],\n",
    "                                                     'plot_dict': {}}\n",
    "\n",
    "event_label = np.load(classifier_preds_save_dir+'event_labels.npy')\n",
    "plot_rocs(classifier_dicts=classifier_dicts, true_lab=event_label, save_path='log_ROC.pdf')\n",
    "plt.show()"
   ]
  },
  {
   "cell_type": "code",
   "execution_count": 5,
   "metadata": {},
   "outputs": [],
   "source": [
    "plt.show()"
   ]
  }
 ],
 "metadata": {
  "kernelspec": {
   "display_name": "Python 3",
   "language": "python",
   "name": "python3"
  },
  "language_info": {
   "codemirror_mode": {
    "name": "ipython",
    "version": 3
   },
   "file_extension": ".py",
   "mimetype": "text/x-python",
   "name": "python",
   "nbconvert_exporter": "python",
   "pygments_lexer": "ipython3",
   "version": "3.8.5"
  }
 },
 "nbformat": 4,
 "nbformat_minor": 4
}
